{
 "cells": [
  {
   "cell_type": "markdown",
   "metadata": {},
   "source": [
    "[画像処理100本ノック](https://github.com/yoyoyo-yo/Gasyori100knock)"
   ]
  },
  {
   "cell_type": "markdown",
   "metadata": {
    "toc": true
   },
   "source": [
    "<h1>目次<span class=\"tocSkip\"></span></h1>\n",
    "<div class=\"toc\"><ul class=\"toc-item\"><li><span><a href=\"#Tutorial\" data-toc-modified-id=\"Tutorial-1\">Tutorial</a></span><ul class=\"toc-item\"><li><span><a href=\"#Python起動\" data-toc-modified-id=\"Python起動-1.1\">Python起動</a></span></li><li><span><a href=\"#インポート\" data-toc-modified-id=\"インポート-1.2\">インポート</a></span></li><li><span><a href=\"#画像読み込み、表示\" data-toc-modified-id=\"画像読み込み、表示-1.3\">画像読み込み、表示</a></span></li><li><span><a href=\"#画素をいじる。\" data-toc-modified-id=\"画素をいじる。-1.4\">画素をいじる。</a></span></li><li><span><a href=\"#画像のコピー\" data-toc-modified-id=\"画像のコピー-1.5\">画像のコピー</a></span></li><li><span><a href=\"#画像の保存\" data-toc-modified-id=\"画像の保存-1.6\">画像の保存</a></span></li><li><span><a href=\"#練習\" data-toc-modified-id=\"練習-1.7\">練習</a></span></li></ul></li><li><span><a href=\"#Q.-1---10\" data-toc-modified-id=\"Q.-1---10-2\">Q. 1 - 10</a></span><ul class=\"toc-item\"><li><span><a href=\"#Q.1.-チャネル入れ替え\" data-toc-modified-id=\"Q.1.-チャネル入れ替え-2.1\">Q.1. チャネル入れ替え</a></span></li><li><span><a href=\"#Q.2.-グレースケール化\" data-toc-modified-id=\"Q.2.-グレースケール化-2.2\">Q.2. グレースケール化</a></span></li><li><span><a href=\"#Q.3.-二値化\" data-toc-modified-id=\"Q.3.-二値化-2.3\">Q.3. 二値化</a></span></li><li><span><a href=\"#Q.4.-大津の二値化\" data-toc-modified-id=\"Q.4.-大津の二値化-2.4\">Q.4. 大津の二値化</a></span></li><li><span><a href=\"#Q.5.-HSV変換\" data-toc-modified-id=\"Q.5.-HSV変換-2.5\">Q.5. HSV変換</a></span></li><li><span><a href=\"#Q.6.-減色処理\" data-toc-modified-id=\"Q.6.-減色処理-2.6\">Q.6. 減色処理</a></span></li><li><span><a href=\"#Q.7.-平均プーリング\" data-toc-modified-id=\"Q.7.-平均プーリング-2.7\">Q.7. 平均プーリング</a></span></li><li><span><a href=\"#Q.8.-Maxプーリング\" data-toc-modified-id=\"Q.8.-Maxプーリング-2.8\">Q.8. Maxプーリング</a></span></li><li><span><a href=\"#Q.9.-ガウシアンフィルタ\" data-toc-modified-id=\"Q.9.-ガウシアンフィルタ-2.9\">Q.9. ガウシアンフィルタ</a></span></li><li><span><a href=\"#Q.10-メディアンフィルタ\" data-toc-modified-id=\"Q.10-メディアンフィルタ-2.10\">Q.10 メディアンフィルタ</a></span></li></ul></li><li><span><a href=\"#Q.11---20\" data-toc-modified-id=\"Q.11---20-3\">Q.11 - 20</a></span><ul class=\"toc-item\"><li><span><a href=\"#Q.11.-平滑化フィルタ\" data-toc-modified-id=\"Q.11.-平滑化フィルタ-3.1\">Q.11. 平滑化フィルタ</a></span></li><li><span><a href=\"#Q.12.-モーションフィルタ\" data-toc-modified-id=\"Q.12.-モーションフィルタ-3.2\">Q.12. モーションフィルタ</a></span></li><li><span><a href=\"#Q.13.-MAX-MINフィルタ\" data-toc-modified-id=\"Q.13.-MAX-MINフィルタ-3.3\">Q.13. MAX-MINフィルタ</a></span></li><li><span><a href=\"#Q.14.-微分フィルタ\" data-toc-modified-id=\"Q.14.-微分フィルタ-3.4\">Q.14. 微分フィルタ</a></span></li><li><span><a href=\"#Q.15.-Sobelフィルタ\" data-toc-modified-id=\"Q.15.-Sobelフィルタ-3.5\">Q.15. Sobelフィルタ</a></span></li><li><span><a href=\"#Q.16.-Prewittフィルタ\" data-toc-modified-id=\"Q.16.-Prewittフィルタ-3.6\">Q.16. Prewittフィルタ</a></span></li><li><span><a href=\"#Q.17.-Laplacianフィルタ\" data-toc-modified-id=\"Q.17.-Laplacianフィルタ-3.7\">Q.17. Laplacianフィルタ</a></span></li><li><span><a href=\"#Q.18.-Embossフィルタ\" data-toc-modified-id=\"Q.18.-Embossフィルタ-3.8\">Q.18. Embossフィルタ</a></span></li><li><span><a href=\"#Q.19.-LoGフィルタ\" data-toc-modified-id=\"Q.19.-LoGフィルタ-3.9\">Q.19. LoGフィルタ</a></span></li><li><span><a href=\"#Q.20.-ヒストグラム表示\" data-toc-modified-id=\"Q.20.-ヒストグラム表示-3.10\">Q.20. ヒストグラム表示</a></span></li></ul></li></ul></div>"
   ]
  },
  {
   "cell_type": "markdown",
   "metadata": {},
   "source": [
    "# Tutorial\n",
    "\n",
    "ここでは画像処理におけるnumpyの基本的な使い方をいくつか紹介していきます。\n",
    "\n",
    "**numpy**とはpyhtonで用意されたパッケージ(Cでいうライブラリのようなもの)の一種で、行列演算などを得意としています。\n",
    "\n",
    "また、画像処理では**OpenCV**というライブラリがあり、様々な処理をAPIかしています。\n",
    "\n",
    "この問題では、numpyをいじって、OpenCVの処理を自分の手で実現することを目標としています。\n",
    "\n",
    "pythonでのOpenCVはnumpyをベースとしているため、numpyがいじれる=OpenCVもいじれる　ということになっていきます。\n",
    "\n",
    "\n",
    "ここからはpyファイルでなく、インタプリタ形式でやってみて下さい。\n",
    "\n",
    "\n",
    "## Python起動\n",
    "\n",
    "コマンドプロンプト上で「python」と打って下さい。\n",
    "すると、こんな感じで >>> と出るはずです。\n",
    "\n",
    "```bash\n",
    "(gasyori100) :~/work_space/Gasyori100knock/Tutorial :$ python\n",
    "Python 3.6.7 |Anaconda, Inc.| (default, Oct 23 2018, 14:01:38) \n",
    "[GCC 4.2.1 Compatible Clang 4.0.1 (tags/RELEASE_401/final)] on darwin\n",
    "Type \"help\", \"copyright\", \"credits\" or \"license\" for more information.\n",
    ">>> \n",
    "```\n",
    "## インポート\n",
    "\n",
    "ここから、パッケージをインストールしていきます。\n",
    "OpenCVはcv2、numpyはnumpyをそれぞれインポートします。\n",
    "（numpyはよくnpという名前にエイリアスします。）\n",
    "\n",
    "```bash\n",
    ">>> import cv2\n",
    ">>> import numpy as np\n",
    "```"
   ]
  },
  {
   "cell_type": "code",
   "execution_count": 1,
   "metadata": {},
   "outputs": [],
   "source": [
    "import cv2\n",
    "import numpy as np\n",
    "import matplotlib.pyplot as plt\n",
    "%matplotlib inline"
   ]
  },
  {
   "cell_type": "markdown",
   "metadata": {},
   "source": [
    "## 画像読み込み、表示\n",
    "\n",
    "画像を読み込むのはimread()です。\n",
    "*imori.jpg*を読み込むには、こうします。\n",
    "\n",
    "```bash\n",
    ">>> img = cv2.imread(\"imori.jpg\")\n",
    "```"
   ]
  },
  {
   "cell_type": "code",
   "execution_count": 2,
   "metadata": {},
   "outputs": [],
   "source": [
    "img = cv2.imread(\"./Tutorial/imori.jpg\")"
   ]
  },
  {
   "cell_type": "markdown",
   "metadata": {},
   "source": [
    "これで変数imgに画像情報がnumpy形式で保存されます。\n",
    "\n",
    "画像のサイズ情報をとるにはimg.shapeを使います。\n",
    "これは(高さ、横、チャネル)の順になっていて、つまり 縦128ピクセル、横128ピクセル、3チャネル(青、緑、赤)を意味します。\n",
    "\n",
    "```bash\n",
    ">>> img.shape\n",
    "(128, 128, 3)\n",
    ">>>\n",
    "```"
   ]
  },
  {
   "cell_type": "code",
   "execution_count": 3,
   "metadata": {},
   "outputs": [
    {
     "data": {
      "text/plain": [
       "(128, 128, 3)"
      ]
     },
     "execution_count": 3,
     "metadata": {},
     "output_type": "execute_result"
    }
   ],
   "source": [
    "img.shape"
   ]
  },
  {
   "cell_type": "markdown",
   "metadata": {},
   "source": [
    "型をとるには、img.dtypeを使用します。\n",
    "uint8とは符号なしintで8ビットを意味します。画像はRGB成分がそれぞれ通常0から255の256段階で表現されます。\n",
    "例えば、赤のピクセルは(R,G,B) = (255, 0, 0)、白は(R,G,B) = (255, 255, 255)です。\n",
    "画像にする時は必ずこの型にしないと画像がおかしくなってしまいます。（あとで説明します。）\n",
    "\n",
    "```bash\n",
    ">>> img.dtype\n",
    "dtype('uint8')\n",
    ">>>\n",
    "```"
   ]
  },
  {
   "cell_type": "code",
   "execution_count": 4,
   "metadata": {},
   "outputs": [
    {
     "data": {
      "text/plain": [
       "dtype('uint8')"
      ]
     },
     "execution_count": 4,
     "metadata": {},
     "output_type": "execute_result"
    }
   ],
   "source": [
    "img.dtype"
   ]
  },
  {
   "cell_type": "markdown",
   "metadata": {},
   "source": [
    "画像の表示はcv2.imshow()を使います。\n",
    "cv2.imshow()の第一引数にはウィンドウの名前（特に気にしなくて良い）、第二引数には画像が必要です。\n",
    "\n",
    "cv2.waitKey(0)はキーボードから何かが入力されるまで画像を表示する、という働きがあります。（もっと気になる人は自分で調べて）\n",
    "\n",
    "```bash\n",
    ">>> cv2.imshow('', img); cv2.waitKey(0)\n",
    "102\n",
    ">>> \n",
    "```\n",
    "\n",
    "|表示 (sample1.png)|\n",
    "|:---:|\n",
    "|![](./Tutorial/sample1.png)|"
   ]
  },
  {
   "cell_type": "code",
   "execution_count": 5,
   "metadata": {},
   "outputs": [
    {
     "data": {
      "text/plain": [
       "<matplotlib.image.AxesImage at 0x1ef8ea876d8>"
      ]
     },
     "execution_count": 5,
     "metadata": {},
     "output_type": "execute_result"
    },
    {
     "data": {
      "image/png": "[encoded data removed]",
      "text/plain": [
       "<Figure size 432x288 with 1 Axes>"
      ]
     },
     "metadata": {
      "needs_background": "light"
     },
     "output_type": "display_data"
    }
   ],
   "source": [
    "# OpenCVとmatplotlibで色の順序が違う(BGR→RGB)\n",
    "img = cv2.cvtColor(img,cv2.COLOR_BGR2RGB)\n",
    "plt.imshow(img)"
   ]
  },
  {
   "cell_type": "markdown",
   "metadata": {},
   "source": [
    "例えば、imgの型をfloat32にしてみます。\n",
    "これはastype()を使えばできます。\n",
    "\n",
    "```bash\n",
    ">>> _img = img.astype(np.float32)\n",
    "```\n",
    "\n",
    "これを表示すると、こうなります。\n",
    "つまり型がおかしくなるために表示がおかしくなります。（ただし保存はできます。）\n",
    "なので、画像をいじる時は、\n",
    "1. cv2.imreadで読み込む\n",
    "2. 型を**一度np.float32など小数点型に変換する**\n",
    "3. 画像をいじる\n",
    "4. **画素が0未満のものは0, 255を超えたものは255に直す。**（超重要）\n",
    "5. 型を**np.uint8に変換して表示・保存する**\n",
    "この手順にすることをおすすめします。\n",
    "\n",
    "4に関しては次章の「画素をいじる」で紹介します。\n",
    "\n",
    "```bash\n",
    ">>> cv2.imshow('', _img); cv2.waitKey(0)\n",
    "102\n",
    ">>>\n",
    "```\n",
    "|表示 (sample2.png)|\n",
    "|:---:|\n",
    "|![](./Tutorial/sample2.png)|"
   ]
  },
  {
   "cell_type": "markdown",
   "metadata": {},
   "source": [
    "## 画素をいじる。\n",
    "\n",
    "画像の操作法はnumpyとほとんど同じです。\n",
    "\n",
    "例えば、x=30、y=20の画素値をいじりたい時は、こうします。\n",
    "画素値はBGRの順に並んでいます。array()とはnumpy形式になっていることを意味します。つまり、OpenCVはnumpyのラッパーです。\n",
    "\n",
    "```bash\n",
    ">>> img[20, 30]\n",
    "array([232, 178, 171], dtype=uint8)\n",
    ">>> \n",
    "```"
   ]
  },
  {
   "cell_type": "code",
   "execution_count": 6,
   "metadata": {},
   "outputs": [
    {
     "data": {
      "text/plain": [
       "array([171, 178, 232], dtype=uint8)"
      ]
     },
     "execution_count": 6,
     "metadata": {},
     "output_type": "execute_result"
    }
   ],
   "source": [
    "img[20,30]"
   ]
  },
  {
   "cell_type": "markdown",
   "metadata": {},
   "source": [
    "さらに、x=30、y=20、のG成分をとる時はこうします。\n",
    "\n",
    "```bash\n",
    ">>> img[20, 30, 1]\n",
    "178\n",
    ">>> \n",
    "```"
   ]
  },
  {
   "cell_type": "code",
   "execution_count": 7,
   "metadata": {},
   "outputs": [
    {
     "data": {
      "text/plain": [
       "178"
      ]
     },
     "execution_count": 7,
     "metadata": {},
     "output_type": "execute_result"
    }
   ],
   "source": [
    "img[20,30,1]"
   ]
  },
  {
   "cell_type": "markdown",
   "metadata": {},
   "source": [
    "ここから、numpyの本題に入っていきます。\n",
    "\n",
    "numpyには**スライス**という機能があります。\n",
    "これはある値v1からある値v2までの全ての要素にアクセスできることを意味します。\n",
    "\n",
    "例えば、y=20, x=[30, 32]までを見る時はこうします。\n",
    "30:33とすれば行列のまま取り出せます。a:bとすることで、a<= v < bの値にアクセスできます。\n",
    "ちなみに :30とすれば [0, 30]、30:とすれば[30, 最後]までを取り出せます。\n",
    "\n",
    "```bash\n",
    ">>> img[20, 30:33]\n",
    "array([[232, 178, 171],\n",
    "[209, 156, 153],\n",
    "[134,  85,  77]], dtype=uint8)\n",
    ">>> \n",
    "```"
   ]
  },
  {
   "cell_type": "code",
   "execution_count": 8,
   "metadata": {},
   "outputs": [
    {
     "data": {
      "text/plain": [
       "array([[171, 178, 232],\n",
       "       [153, 156, 209],\n",
       "       [ 77,  85, 134]], dtype=uint8)"
      ]
     },
     "execution_count": 8,
     "metadata": {},
     "output_type": "execute_result"
    }
   ],
   "source": [
    "img[20,30:33]"
   ]
  },
  {
   "cell_type": "markdown",
   "metadata": {},
   "source": [
    "例えば画像の左上(x=[0, 50], y = [0, 50])を黒にするには、こんな感じでできます。\n",
    "copy()については次で説明します。\n",
    "\n",
    "```bash\n",
    ">>> img2 = img.copy()\n",
    ">>> img2[:50, :50] = 0\n",
    ">>> cv2.imshow(\"\", img2); cv2.waitKey(0)\n",
    "0\n",
    ">>>\n",
    "```\n",
    "\n",
    "|表示 (sample3.png)|\n",
    "|:---:|\n",
    "|![](./Tutorial/sample3.png)|"
   ]
  },
  {
   "cell_type": "code",
   "execution_count": 9,
   "metadata": {},
   "outputs": [
    {
     "data": {
      "text/plain": [
       "<matplotlib.image.AxesImage at 0x1ef8eb2bb70>"
      ]
     },
     "execution_count": 9,
     "metadata": {},
     "output_type": "execute_result"
    },
    {
     "data": {
      "image/png": "[encoded data removed]",
      "text/plain": [
       "<Figure size 432x288 with 1 Axes>"
      ]
     },
     "metadata": {
      "needs_background": "light"
     },
     "output_type": "display_data"
    }
   ],
   "source": [
    "img2 = img.copy()\n",
    "img2[:50, :50] = 0\n",
    "plt.imshow(img2)"
   ]
  },
  {
   "cell_type": "markdown",
   "metadata": {},
   "source": [
    "次に先程の　4. **画素が0未満のものは0, 255を超えたものは255に直す。**　に関して説明します。\n",
    "\n",
    "例えば、画像を一度 float32型にして、一部分のB成分を260という値に変えてみます。\n",
    "uint8型は[0, 255] の範囲しか取り得ないので、これをuint8型に直すとこんな風になります。\n",
    "イモリの顔の一部分が黄色くなってしまっています。\n",
    "\n",
    "**これは、260をuint8型に直すと260 - 256 が起きて、B=4となってしまうためです。**\n",
    "これが原因で画素値がおかしくなることが多々起きてしまいます。\n",
    "なので、4の操作が必要となります。\n",
    "\n",
    "```bash\n",
    ">>> img2 = img.copy().astype(np.float32)\n",
    ">>> img2[60:100, 60:100, 0] = 260\n",
    ">>> cv2.imshow(\"imori\", img2.astype(np.uint8)); cv2.waitKey(0)\n",
    "```\n",
    "\n",
    "|表示 (sample5.png)|\n",
    "|:---:|\n",
    "|![](./Tutorial/sample5.png)|"
   ]
  },
  {
   "cell_type": "markdown",
   "metadata": {},
   "source": [
    "## 画像のコピー\n",
    "\n",
    "画像を別変数にコピーしたい時はcopy()を使いましょう。\n",
    "\n",
    "```bash\n",
    ">>> img2 = img.copy()\n",
    "```"
   ]
  },
  {
   "cell_type": "code",
   "execution_count": 10,
   "metadata": {},
   "outputs": [],
   "source": [
    "img2 = img.copy()"
   ]
  },
  {
   "cell_type": "markdown",
   "metadata": {},
   "source": [
    "単純に img2 = img とすると、画像のアドレスが保存されるのでimg2をいじるとimgにも反映されてしまします。\n",
    "\n",
    "特別な利用がない場合は、**copy()で画像をコピーしましょう**。"
   ]
  },
  {
   "cell_type": "markdown",
   "metadata": {},
   "source": [
    "## 画像の保存\n",
    "\n",
    "保存には cv2.imwrite()を使いましょう。\n",
    "\n",
    "例えば先程のimg2を *sample.jpg* という名前で保存する時はこうしましょう。\n",
    "Trueとなれば保存に成功で、これで同じフォルダ内にsample.jpgというファイルができています。\n",
    "\n",
    "```bash\n",
    ">>> cv2.imwrite(\"sample.jpg\", img2)\n",
    "True\n",
    ">>>\n",
    "```"
   ]
  },
  {
   "cell_type": "code",
   "execution_count": 11,
   "metadata": {},
   "outputs": [
    {
     "data": {
      "text/plain": [
       "True"
      ]
     },
     "execution_count": 11,
     "metadata": {},
     "output_type": "execute_result"
    }
   ],
   "source": [
    "cv2.imwrite(\"sample.jpg\", img2)"
   ]
  },
  {
   "cell_type": "markdown",
   "metadata": {},
   "source": [
    "## 練習\n",
    "\n",
    "画像の左半分上のRとBを入れ替えて表示してみましょう。\n",
    "\n",
    "回答例\n",
    " \n",
    "```bash\n",
    ">>> import cv2\n",
    ">>> img = cv2.imread(\"imori.jpg\")\n",
    ">>> img3 = img.copy()\n",
    ">>> H, W, C = img3.shape\n",
    ">>> img3[:H//2, :W//2] = img3[:H//2, :W//2, (2, 1, 0)]\n",
    ">>> cv2.imshow('', img3); cv2.waitKey(0)\n",
    "102\n",
    ">>> \n",
    "```\n",
    "\n",
    "|表示 (sample4.png)|\n",
    "|:---:|\n",
    "|![](./Tutorial/sample4.png)|"
   ]
  },
  {
   "cell_type": "code",
   "execution_count": 12,
   "metadata": {},
   "outputs": [
    {
     "data": {
      "text/plain": [
       "<matplotlib.image.AxesImage at 0x1ef8eba0710>"
      ]
     },
     "execution_count": 12,
     "metadata": {},
     "output_type": "execute_result"
    },
    {
     "data": {
      "image/png": "[encoded data removed]",
      "text/plain": [
       "<Figure size 432x288 with 1 Axes>"
      ]
     },
     "metadata": {
      "needs_background": "light"
     },
     "output_type": "display_data"
    }
   ],
   "source": [
    "img3 = img.copy()\n",
    "tmpR = img3[:64,:64,0]\n",
    "tmpB = img3[:64,:64,2]\n",
    "img3[:64,:64,0] = tmpB\n",
    "img3[:64,:64,2] = tmpR\n",
    "plt.imshow(img3)"
   ]
  },
  {
   "cell_type": "markdown",
   "metadata": {},
   "source": [
    "以上でチュートリアルは終了です。\n",
    "\n",
    "あとはばんばん問題を解いて下さい！！！！"
   ]
  },
  {
   "cell_type": "markdown",
   "metadata": {},
   "source": [
    "# Q. 1 - 10"
   ]
  },
  {
   "cell_type": "markdown",
   "metadata": {},
   "source": [
    "## Q.1. チャネル入れ替え\n",
    "\n",
    "画像を読み込み、RGBをBGRの順に入れ替えよ。\n",
    "\n",
    "画像の赤成分を取り出すには、以下のコードで可能。\n",
    "cv2.imread()関数ではチャネルがBGRの順になることに注意！\n",
    "これで変数redにimori.jpgの赤成分のみが入る。\n",
    "\n",
    "```python\n",
    "import cv2\n",
    "img = cv2.imread(\"imori.jpg\")\n",
    "red = img[:, :, 2].copy()\n",
    "```\n",
    "\n",
    "|入力 (imori.jpg)|出力 (answer_1.jpg)|\n",
    "|:---:|:---:|\n",
    "|![](./Question_01_10/imori.jpg)|![](./Question_01_10/answer_1.jpg)|\n",
    "\n",
    "<details><summary>答え(クリックで展開)</summary><div>\n",
    "    \n",
    "```python\n",
    "import cv2\n",
    "\n",
    "# Read image\n",
    "img = cv2.imread(\"imori.jpg\")\n",
    "b = img[:, :, 0].copy()\n",
    "g = img[:, :, 1].copy()\n",
    "r = img[:, :, 2].copy()\n",
    "\n",
    "# RGB > BGR\n",
    "img[:, :, 0] = r\n",
    "img[:, :, 1] = g\n",
    "img[:, :, 2] = b\n",
    "\n",
    "# Save result\n",
    "cv2.imwrite(\"out.jpg\", img)\n",
    "cv2.imshow(\"result\", img)\n",
    "cv2.waitKey(0)\n",
    "cv2.destroyAllWindows()\n",
    "```\n",
    "</div></details>"
   ]
  },
  {
   "cell_type": "code",
   "execution_count": null,
   "metadata": {},
   "outputs": [],
   "source": []
  },
  {
   "cell_type": "markdown",
   "metadata": {},
   "source": [
    "## Q.2. グレースケール化\n",
    "\n",
    "画像をグレースケールにせよ。\n",
    "グレースケールとは、画像の輝度表現方法の一種であり下式で計算される。\n",
    "\n",
    "Y = 0.2126 R + 0.7152 G + 0.0722 B\n",
    "\n",
    "|入力 (imori.jpg)|出力 (answer_2.jpg)|\n",
    "|:---:|:---:|\n",
    "|![](./Question_01_10/imori.jpg)|![](./Question_01_10/answer_2.jpg)|\n",
    "\n",
    "<details><summary>答え(クリックで展開)</summary><div>\n",
    "    \n",
    "```python\n",
    "import cv2\n",
    "import numpy as np\n",
    "\n",
    "# Read image\n",
    "img = cv2.imread(\"imori.jpg\").astype(np.float)\n",
    "b = img[:, :, 0].copy()\n",
    "g = img[:, :, 1].copy()\n",
    "r = img[:, :, 2].copy()\n",
    "\n",
    "# Gray scale\n",
    "out = 0.2126 * r + 0.7152 * g + 0.0722 * b\n",
    "out = out.astype(np.uint8)\n",
    "\n",
    "# Save result\n",
    "cv2.imwrite(\"out.jpg\", out)\n",
    "cv2.imshow(\"result\", out)\n",
    "cv2.waitKey(0)\n",
    "cv2.destroyAllWindows()\n",
    "```\n",
    "</div></details>"
   ]
  },
  {
   "cell_type": "code",
   "execution_count": null,
   "metadata": {},
   "outputs": [],
   "source": []
  },
  {
   "cell_type": "markdown",
   "metadata": {},
   "source": [
    "## Q.3. 二値化\n",
    "\n",
    "画像を二値化せよ。\n",
    "二値化とは、画像を黒と白の二値で表現する方法である。\n",
    "ここでは、グレースケールにおいて閾値を128に設定し、下式で二値化する。\n",
    "\n",
    "```bash\n",
    "y = { 0 (if y < 128)\n",
    "     255 (else) \n",
    "```\n",
    "\n",
    "|入力 (imori.jpg)|出力 (answer_3.jpg)|\n",
    "|:---:|:---:|\n",
    "|![](./Question_01_10/imori.jpg)|![](./Question_01_10/answer_3.jpg)|\n",
    "\n",
    "<details><summary>答え(クリックで展開)</summary><div>\n",
    "    \n",
    "```python\n",
    "import cv2\n",
    "import numpy as np\n",
    "\n",
    "# Read image\n",
    "img = cv2.imread(\"imori.jpg\").astype(np.float)\n",
    "b = img[:, :, 0].copy()\n",
    "g = img[:, :, 1].copy()\n",
    "r = img[:, :, 2].copy()\n",
    "\n",
    "# Grayscale\n",
    "out = 0.2126 * r + 0.7152 * g + 0.0722 * b\n",
    "out = out.astype(np.uint8)\n",
    "\n",
    "# Binarization\n",
    "th = 128\n",
    "out[out < th] = 0\n",
    "out[out >= th] = 255\n",
    "\n",
    "# Save result\n",
    "cv2.imwrite(\"out.jpg\", out)\n",
    "cv2.imshow(\"result\", out)\n",
    "cv2.waitKey(0)\n",
    "cv2.destroyAllWindows()\n",
    "```\n",
    "</div></details>"
   ]
  },
  {
   "cell_type": "code",
   "execution_count": null,
   "metadata": {},
   "outputs": [],
   "source": []
  },
  {
   "cell_type": "markdown",
   "metadata": {},
   "source": [
    "## Q.4. 大津の二値化\n",
    "\n",
    "大津の二値化を実装せよ。\n",
    "大津の二値化とは判別分析法と呼ばれ、二値化における分離の閾値を自動決定する手法である。\n",
    "これは**クラス内分散**と**クラス間分散**の比から計算される。\n",
    "\n",
    "\n",
    "- 閾値t未満をクラス0, t以上をクラス1とする。\n",
    "- w0, w1 ... 閾値tにより分離された各クラスの画素数の割合 (w0 + w1 = 1を満たす)\n",
    "- S0^2, S1^2 ... 各クラスの画素値の分散\n",
    "- M0, M1 ... 各クラスの画素値の平均値\n",
    "\n",
    "とすると、\n",
    "\n",
    "```bash\n",
    "クラス内分散 Sw^2 = w0 * S0^2 + w1 * S1^2\n",
    "クラス間分散 Sb^2 = w0 * (M0 - Mt)^2 + w1 * (M1 - Mt)^2 = w0 * w1 * (M0 - M1) ^2\n",
    "画像全体の画素の分散 St^2 = Sw^2 + Sb^2 = (const)\n",
    "以上より、分離度は次式で定義される。\n",
    "分離度 X = Sb^2 / Sw^2 = Sb^2 / (St^2 - Sb^2)\n",
    "```\n",
    "\n",
    "となるので、\n",
    "\n",
    "```bash\n",
    "argmax_{t} X = argmax_{t} Sb^2\n",
    "```\n",
    "となる。すなわち、Sb^2 =  w0 * w1 * (M0 - M1) ^2 が最大となる、閾値tを二値化の閾値とすれば良い。\n",
    "\n",
    "|入力 (imori.jpg)|出力 (th = 127) (answer_4.jpg)|\n",
    "|:---:|:---:|\n",
    "|![](./Question_01_10/imori.jpg)|![](./Question_01_10/answer_4.jpg)|\n",
    "\n",
    "<details><summary>答え(クリックで展開)</summary><div>\n",
    "    \n",
    "```python\n",
    "import cv2\n",
    "import numpy as np\n",
    "\n",
    "# Read image\n",
    "img = cv2.imread(\"imori.jpg\").astype(np.float)\n",
    "\n",
    "H, W, C = img.shape\n",
    "\n",
    "# Grayscale\n",
    "out = 0.2126 * img[..., 2] + 0.7152 * img[..., 1] + 0.0722 * img[..., 0]\n",
    "out = out.astype(np.uint8)\n",
    "\n",
    "# Determine threshold of Otsu's binarization\n",
    "max_sigma = 0\n",
    "max_t = 0\n",
    "\n",
    "for _t in range(1, 255):\n",
    "    v0 = out[np.where(out < _t)]\n",
    "    m0 = np.mean(v0) if len(v0) > 0 else 0.\n",
    "    w0 = len(v0) / (H * W)\n",
    "    v1 = out[np.where(out >= _t)]\n",
    "    m1 = np.mean(v1) if len(v1) > 0 else 0.\n",
    "    w1 = len(v1) / (H * W)\n",
    "    sigma = w0 * w1 * ((m0 - m1) ** 2)\n",
    "    if sigma > max_sigma:\n",
    "        max_sigma = sigma\n",
    "        max_t = _t\n",
    "\n",
    "# Binarization\n",
    "print(\"threshold >>\", max_t)\n",
    "th = max_t\n",
    "out[out < th] = 0\n",
    "out[out >= th] = 255\n",
    "\n",
    "# Save result\n",
    "cv2.imwrite(\"out.jpg\", out)\n",
    "cv2.imshow(\"result\", out)\n",
    "cv2.waitKey(0)\n",
    "cv2.destroyAllWindows()\n",
    "```\n",
    "</div></details>"
   ]
  },
  {
   "cell_type": "code",
   "execution_count": null,
   "metadata": {},
   "outputs": [],
   "source": []
  },
  {
   "cell_type": "markdown",
   "metadata": {},
   "source": [
    "## Q.5. HSV変換\n",
    "\n",
    "HSV変換を実装して、色相Hを反転せよ。\n",
    "\n",
    "HSV変換とは、**Hue(色相)**、**Saturation(彩度)**、**Value(明度)** で色を表現する手法である。\n",
    "\n",
    "- Hue ... 色合いを0~360度で表現し、赤や青など色の種類を示す。 ( 0 <= H < 360) 色相は次の色に対応する。\n",
    "\n",
    "```bash\n",
    "赤 黄色  緑  水色  青  紫   赤\n",
    "0  60  120  180 240 300 360\n",
    "```\n",
    "\n",
    "- Saturation ... 色の鮮やかさ。Saturationが低いと灰色さが顕著になり、くすんだ色となる。 ( 0<= S < 1)\n",
    "- Value ... 色の明るさ。Valueが高いほど白に近く、Valueが低いほど黒に近くなる。 ( 0 <= V < 1)\n",
    "\n",
    "RGB -> HSV変換は以下の式で定義される。\n",
    "\n",
    "R,G,Bが[0, 1]の範囲にあるとする。\n",
    "\n",
    "```bash\n",
    "Max = max(R,G,B)\n",
    "Min = min(R,G,B)\n",
    "\n",
    "H =  { 0                            (if Min=Max)\n",
    "       60 x (G-R) / (Max-Min) + 60  (if Min=B)\n",
    "       60 x (B-G) / (Max-Min) + 180 (if Min=R)\n",
    "       60 x (R-B) / (Max-Min) + 300 (if Min=G)\n",
    "       \n",
    "V = Max\n",
    "\n",
    "S = Max - Min\n",
    "```\n",
    "\n",
    "HSV -> RGB変換は以下の式で定義される。\n",
    "\n",
    "```bash\n",
    "C = S\n",
    "\n",
    "H' = H / 60\n",
    "\n",
    "X = C (1 - |H' mod 2 - 1|)\n",
    "\n",
    "(R,G,B) = (V - C) (1,1,1) + { (0, 0, 0)  (if H is undefined)\n",
    "                              (C, X, 0)  (if 0 <= H' < 1)\n",
    "                              (X, C, 0)  (if 1 <= H' < 2)\n",
    "                              (0, C, X)  (if 2 <= H' < 3)\n",
    "                              (0, X, C)  (if 3 <= H' < 4)\n",
    "                              (X, 0, C)  (if 4 <= H' < 5)\n",
    "                              (C, 0, X)  (if 5 <= H' < 6)\n",
    "```\n",
    "ここでは色相Hを反転(180を加算)し、RGBに直し画像を表示せよ。\n",
    "\n",
    "|入力 (imori.jpg)|出力 (answer_5.jpg)|\n",
    "|:---:|:---:|\n",
    "|![](./Question_01_10/imori.jpg)|![](./Question_01_10/answer_5.jpg)|\n",
    "\n",
    "<details><summary>答え(クリックで展開)</summary><div>\n",
    "    \n",
    "```python\n",
    "import cv2\n",
    "import numpy as np\n",
    "\n",
    "# Read image\n",
    "img = cv2.imread(\"imori.jpg\").astype(np.float32) / 255.\n",
    "\n",
    "# RGB > HSV\n",
    "out = np.zeros_like(img)\n",
    "\n",
    "max_v = np.max(img, axis=2).copy()\n",
    "min_v = np.min(img, axis=2).copy()\n",
    "min_arg = np.argmin(img, axis=2)\n",
    "\n",
    "H = np.zeros_like(max_v)\n",
    "\n",
    "H[np.where(max_v == min_v)] = 0\n",
    "## if min == B\n",
    "ind = np.where(min_arg == 0)\n",
    "H[ind] = 60 * (img[..., 1][ind] - img[..., 2][ind]) / (max_v[ind] - min_v[ind]) + 60\n",
    "## if min == R\n",
    "ind = np.where(min_arg == 2)\n",
    "H[ind] = 60 * (img[..., 0][ind] - img[..., 1][ind]) / (max_v[ind] - min_v[ind]) + 180\n",
    "## if min == G\n",
    "ind = np.where(min_arg == 1)\n",
    "H[ind] = 60 * (img[..., 2][ind] - img[..., 0][ind]) / (max_v[ind] - min_v[ind]) + 300\n",
    "    \n",
    "V = max_v.copy()\n",
    "S = max_v.copy() - min_v.copy()\n",
    "\n",
    "# Transpose Hue\n",
    "H = (H + 180) % 360\n",
    "\n",
    "# HSV > RGB\n",
    "\n",
    "C = S\n",
    "H_ = H / 60\n",
    "X = C * (1 - np.abs( H_ % 2 - 1))\n",
    "Z = np.zeros_like(H)\n",
    "\n",
    "vals = [[Z,X,C], [Z,C,X], [X,C,Z], [C,X,Z], [C,Z,X], [X,Z,C]]\n",
    "\n",
    "for i in range(6):\n",
    "    ind = np.where((i <= H_) & (H_ < (i+1)))\n",
    "    out[..., 0][ind] = (V-C)[ind] + vals[i][0][ind]\n",
    "    out[..., 1][ind] = (V-C)[ind] + vals[i][1][ind]\n",
    "    out[..., 2][ind] = (V-C)[ind] + vals[i][2][ind]\n",
    "\n",
    "out[np.where(max_v == min_v)] = 0\n",
    "out = (out * 255).astype(np.uint8) \n",
    "\n",
    "# Save result\n",
    "cv2.imwrite(\"out.jpg\", out)\n",
    "cv2.imshow(\"result\", out)\n",
    "cv2.waitKey(0)\n",
    "cv2.destroyAllWindows()\n",
    "```\n",
    "</div></details>"
   ]
  },
  {
   "cell_type": "code",
   "execution_count": null,
   "metadata": {},
   "outputs": [],
   "source": []
  },
  {
   "cell_type": "markdown",
   "metadata": {},
   "source": [
    "## Q.6. 減色処理\n",
    "\n",
    "ここでは画像の値を256^3から4^3、すなわちR,G,B in {32, 96, 160, 224}の各4値に減色せよ。\n",
    "これは量子化操作である。\n",
    "各値に関して、以下の様に定義する。\n",
    "\n",
    "```bash\n",
    "val = {  32  (0 <= val < 63)\n",
    "         96  (63 <= val < 127)\n",
    "        160  (127 <= val < 191)\n",
    "        224  (191 <= val < 256)\n",
    "```\n",
    "|入力 (imori.jpg)|出力 (answer_6.jpg)|\n",
    "|:---:|:---:|\n",
    "|![](./Question_01_10/imori.jpg)|![](./Question_01_10/answer_6.jpg)|\n",
    "\n",
    "<details><summary>答え(クリックで展開)</summary><div>\n",
    "    \n",
    "```python\n",
    "import cv2\n",
    "import numpy as np\n",
    "\n",
    "# Read image\n",
    "img = cv2.imread(\"imori.jpg\")\n",
    "\n",
    "# Dicrease color\n",
    "out = img.copy()\n",
    "\n",
    "out = out // 64 * 64 + 32\n",
    "\n",
    "cv2.imwrite(\"out.jpg\", out)\n",
    "cv2.imshow(\"result\", out)\n",
    "cv2.waitKey(0)\n",
    "cv2.destroyAllWindows()\n",
    "```\n",
    "</div></details>"
   ]
  },
  {
   "cell_type": "code",
   "execution_count": null,
   "metadata": {},
   "outputs": [],
   "source": []
  },
  {
   "cell_type": "markdown",
   "metadata": {},
   "source": [
    "## Q.7. 平均プーリング\n",
    "\n",
    "ここでは画像をグリッド分割(ある固定長の領域に分ける)し、かく領域内(セル)の平均値でその領域内の値を埋める。\n",
    "このようにグリッド分割し、その領域内の代表値を求める操作は**Pooling(プーリング)** と呼ばれる。\n",
    "これらプーリング操作は**CNN(Convolutional Neural Network)** において重要な役割を持つ。\n",
    "\n",
    "これは次式で定義される。\n",
    "\n",
    "```bash\n",
    "v = 1/|R| * Sum_{i in R} v_i\n",
    "```\n",
    "\n",
    "ここではimori.jpgは128x128なので、8x8にグリッド分割し、平均プーリングせよ。\n",
    "\n",
    "|入力 (imori.jpg)|出力 (answer_7.jpg)|\n",
    "|:---:|:---:|\n",
    "|![](./Question_01_10/imori.jpg)|![](./Question_01_10/answer_7.jpg)|\n",
    "\n",
    "<details><summary>答え(クリックで展開)</summary><div>\n",
    "    \n",
    "```python\n",
    "import cv2\n",
    "import numpy as np\n",
    "\n",
    "# Read image\n",
    "img = cv2.imread(\"imori.jpg\")\n",
    "\n",
    "# Average Pooling\n",
    "out = img.copy()\n",
    "\n",
    "H, W, C = img.shape\n",
    "G = 8\n",
    "Nh = int(H / G)\n",
    "Nw = int(W / G)\n",
    "\n",
    "for y in range(Nh):\n",
    "    for x in range(Nw):\n",
    "        for c in range(C):\n",
    "            out[G*y:G*(y+1), G*x:G*(x+1), c] = np.mean(out[G*y:G*(y+1), G*x:G*(x+1), c]).astype(np.int)\n",
    "\n",
    "# Save result\n",
    "cv2.imwrite(\"out.jpg\", out)\n",
    "cv2.imshow(\"result\", out)\n",
    "cv2.waitKey(0)\n",
    "cv2.destroyAllWindows()\n",
    "```\n",
    "</div></details>"
   ]
  },
  {
   "cell_type": "code",
   "execution_count": null,
   "metadata": {},
   "outputs": [],
   "source": []
  },
  {
   "cell_type": "markdown",
   "metadata": {},
   "source": [
    "## Q.8. Maxプーリング\n",
    "\n",
    "ここでは平均値でなく最大値でプーリングせよ。\n",
    "\n",
    "|入力 (imori.jpg)|出力 (answer_8.jpg)|\n",
    "|:---:|:---:|\n",
    "|![](./Question_01_10/imori.jpg)|![](./Question_01_10/answer_8.jpg)|\n",
    "\n",
    "<details><summary>答え(クリックで展開)</summary><div>\n",
    "    \n",
    "```python\n",
    "import cv2\n",
    "import numpy as np\n",
    "\n",
    "# Read image\n",
    "img = cv2.imread(\"imori.jpg\")\n",
    "\n",
    "# Max Pooling\n",
    "out = img.copy()\n",
    "\n",
    "H, W, C = img.shape\n",
    "G = 8\n",
    "Nh = int(H / G)\n",
    "Nw = int(W / G)\n",
    "\n",
    "for y in range(Nh):\n",
    "    for x in range(Nw):\n",
    "        for c in range(C):\n",
    "            out[G*y:G*(y+1), G*x:G*(x+1), c] = np.max(out[G*y:G*(y+1), G*x:G*(x+1), c])\n",
    "\n",
    "# Save result\n",
    "cv2.imwrite(\"out.jpg\", out)\n",
    "cv2.imshow(\"result\", out)\n",
    "cv2.waitKey(0)\n",
    "cv2.destroyAllWindows()\n",
    "```\n",
    "</div></details>"
   ]
  },
  {
   "cell_type": "code",
   "execution_count": null,
   "metadata": {},
   "outputs": [],
   "source": []
  },
  {
   "cell_type": "markdown",
   "metadata": {},
   "source": [
    "## Q.9. ガウシアンフィルタ\n",
    "\n",
    "ガウシアンフィルタ(3x3、標準偏差1.3)を実装し、*imori_noise.jpg*のノイズを除去せよ。\n",
    "\n",
    "ガウシアンフィルタとは画像の**平滑化**（滑らかにする）を行うフィルタの一種であり、**ノイズ除去**にも使われる。\n",
    "\n",
    "ノイズ除去には他にも、メディアンフィルタ(Q.10)、平滑化フィルタ(Q.11)、LoGフィルタ(Q.19)などがある。\n",
    "\n",
    "ガウシアンフィルタは注目画素の周辺画素を、ガウス分布による重み付けで平滑化し、次式で定義される。\n",
    "このような重みは**カーネル**や**フィルタ**と呼ばれる。\n",
    "\n",
    "ただし、画像の端はこのままではフィルタリングできないため、画素が足りない部分は0で埋める。これを**0パディング**と呼ぶ。\n",
    "かつ、重みは正規化する。(sum g = 1)\n",
    "\n",
    "```bash\n",
    "重み g(x,y,s) = 1/ (s*sqrt(2 * pi)) * exp( - (x^2 + y^2) / (2*s^2))\n",
    "標準偏差s = 1.3による8近傍ガウシアンフィルタは\n",
    "            1 2 1\n",
    "K =  1/16 [ 2 4 2 ]\n",
    "            1 2 1\n",
    "```\n",
    "\n",
    "|入力 (imori_noise.jpg)|出力 (answer_9.jpg)|\n",
    "|:---:|:---:|\n",
    "|![](./Question_01_10/imori_noise.jpg)|![](./Question_01_10/answer_9.jpg)|\n",
    "\n",
    "<details><summary>答え(クリックで展開)</summary><div>\n",
    "    \n",
    "```python\n",
    "import cv2\n",
    "import numpy as np\n",
    "\n",
    "# Read image\n",
    "img = cv2.imread(\"imori_noise.jpg\")\n",
    "H, W, C = img.shape\n",
    "\n",
    "\n",
    "# Gaussian Filter\n",
    "K_size = 3\n",
    "sigma = 1.3\n",
    "\n",
    "## Zero padding\n",
    "pad = K_size // 2\n",
    "out = np.zeros((H + pad*2, W + pad*2, C), dtype=np.float)\n",
    "out[pad:pad+H, pad:pad+W] = img.copy().astype(np.float)\n",
    "\n",
    "## Kernel\n",
    "K = np.zeros((K_size, K_size), dtype=np.float)\n",
    "for x in range(-pad, -pad+K_size):\n",
    "    for y in range(-pad, -pad+K_size):\n",
    "        K[y+pad, x+pad] = np.exp( -(x**2 + y**2) / (2* (sigma**2)))\n",
    "K /= (sigma * np.sqrt(2 * np.pi))\n",
    "K /= K.sum()\n",
    "\n",
    "for y in range(H):\n",
    "    for x in range(W):\n",
    "        for c in range(C):\n",
    "            out[pad+y, pad+x, c] = np.sum(K * out[y:y+K_size, x:x+K_size, c])\n",
    "\n",
    "out = out[pad:pad+H, pad:pad+W].astype(np.uint8)\n",
    "\n",
    "# Save result\n",
    "cv2.imwrite(\"out.jpg\", out)\n",
    "cv2.imshow(\"result\", out)\n",
    "cv2.waitKey(0)\n",
    "cv2.destroyAllWindows()\n",
    "```\n",
    "</div></details>"
   ]
  },
  {
   "cell_type": "code",
   "execution_count": null,
   "metadata": {},
   "outputs": [],
   "source": []
  },
  {
   "cell_type": "markdown",
   "metadata": {},
   "source": [
    "## Q.10 メディアンフィルタ\n",
    "\n",
    "メディアンフィルタ(3x3)を実装し、*imori_noise.jpg*のノイズを除去せよ。\n",
    "\n",
    "メディアンフィルタとは画像の平滑化を行うフィルタの一種である。\n",
    "\n",
    "これは注目画素の3x3の領域内の、メディアン値(中央値)を出力するフィルタである。\n",
    "これもゼロパディングせよ。\n",
    "\n",
    "|入力 (imori_noise.jpg)|出力 (answer_10.jpg)|\n",
    "|:---:|:---:|\n",
    "|![](./Question_01_10/imori_noise.jpg)|![](./Question_01_10/answer_10.jpg)|\n",
    "\n",
    "<details><summary>答え(クリックで展開)</summary><div>\n",
    "    \n",
    "```python\n",
    "import cv2\n",
    "import numpy as np\n",
    "\n",
    "# Read image\n",
    "img = cv2.imread(\"imori_noise.jpg\")\n",
    "H, W, C = img.shape\n",
    "\n",
    "\n",
    "# Median Filter\n",
    "K_size = 3\n",
    "\n",
    "## Zero padding\n",
    "pad = K_size // 2\n",
    "out = np.zeros((H + pad*2, W + pad*2, C), dtype=np.float)\n",
    "out[pad:pad+H, pad:pad+W] = img.copy().astype(np.float)\n",
    "\n",
    "\n",
    "for y in range(H):\n",
    "    for x in range(W):\n",
    "        for c in range(C):\n",
    "            out[pad+y, pad+x, c] = np.median(out[y:y+K_size, x:x+K_size, c])\n",
    "\n",
    "out = out[pad:pad+H, pad:pad+W].astype(np.uint8)\n",
    "\n",
    "# Save result\n",
    "cv2.imwrite(\"out.jpg\", out)\n",
    "cv2.imshow(\"result\", out)\n",
    "cv2.waitKey(0)\n",
    "cv2.destroyAllWindows()\n",
    "```\n",
    "</div></details>"
   ]
  },
  {
   "cell_type": "code",
   "execution_count": null,
   "metadata": {},
   "outputs": [],
   "source": []
  },
  {
   "cell_type": "markdown",
   "metadata": {},
   "source": [
    "# Q.11 - 20"
   ]
  },
  {
   "cell_type": "markdown",
   "metadata": {},
   "source": [
    "## Q.11. 平滑化フィルタ\n",
    "\n",
    "平滑化フィルタ(3x3)を実装せよ。\n",
    "\n",
    "平滑化フィルタはフィルタ内の画素の平均値を出力するフィルタである。\n",
    "\n",
    "|入力 (imori.jpg)|出力 (answer_11.jpg)|\n",
    "|:---:|:---:|\n",
    "|![](imori.jpg)|![](answer_11.jpg)|\n",
    "\n",
    "答え >> [answer_11.py](https://github.com/yoyoyo-yo/Gasyori100knock/blob/master/Question_11_20/answer_11.py)"
   ]
  },
  {
   "cell_type": "markdown",
   "metadata": {},
   "source": [
    "## Q.12. モーションフィルタ\n",
    "\n",
    "モーションフィルタ(3x3)を実装せよ。\n",
    "\n",
    "モーションフィルタとは対角方向の平均値を取るフィルタであり、次式で定義される。\n",
    "\n",
    "```bash\n",
    "  1/3  0   0\n",
    "[  0  1/3  0 ]\n",
    "   0   0  1/3\n",
    "```\n",
    "\n",
    "|入力 (imori.jpg)|出力 (answer_12.jpg)|\n",
    "|:---:|:---:|\n",
    "|![](imori.jpg)|![](answer_12.jpg)|\n",
    "\n",
    "答え >> [answer_12.py](https://github.com/yoyoyo-yo/Gasyori100knock/blob/master/Question_11_20/answer_12.py)\n",
    "\n",
    "## Q.13. MAX-MINフィルタ\n",
    "\n",
    "MAX-MIJフィルタ(3x3)を実装せよ。\n",
    "\n",
    "MAX-MINフィルタとはフィルタ内の画素の最大値と最小値の差を出力するフィルタであり、**エッジ検出**のフィルタの一つである。\n",
    "エッジ検出とは画像内の線を検出るすることであり、このような画像内の情報を抜き出す操作を**特徴抽出**と呼ぶ。\n",
    "エッジ検出では多くの場合、グレースケール画像に対してフィルタリングを行う。\n",
    "\n",
    "|入力 (imori.jpg)|出力 (answer_13.jpg)|\n",
    "|:---:|:---:|\n",
    "|![](imori.jpg)|![](answer_13.jpg)|\n",
    "\n",
    "答え >> [answer_13.py](https://github.com/yoyoyo-yo/Gasyori100knock/blob/master/Question_11_20/answer_13.py)\n",
    "\n",
    "\n",
    "## Q.14. 微分フィルタ\n",
    "\n",
    "微分フィルタ(3x3)を実装せよ。\n",
    "\n",
    "微分フィルタは輝度の急激な変化が起こっている部分のエッジを取り出すフィルタであり、隣り合う画素同士の差を取る。\n",
    "\n",
    "```bash\n",
    "    (a)縦方向         (b)横方向\n",
    "      0 -1  0            0 0 0\n",
    "K = [ 0  1  0 ]   K = [ -1 1 0 ]\n",
    "      0  0  0            0 0 0\n",
    "```\n",
    "\n",
    "|入力 (imori.jpg)|出力・縦方向 (answer_14_v.jpg)|出力・横方向 (answer_14_h.jpg)|\n",
    "|:---:|:---:|:---:|\n",
    "|![](imori.jpg)|![](answer_14_v.jpg)|![](answer_14_h.jpg)|\n",
    "\n",
    "答え >>[ answer_14.py](https://github.com/yoyoyo-yo/Gasyori100knock/blob/master/Question_11_20/answer_14.py)\n",
    "\n",
    "## Q.15. Sobelフィルタ\n",
    "\n",
    "Sobelフィルタ(3x3)を実装せよ。\n",
    "\n",
    "ソーベルフィルタ(Sobelフィルタ)は特定方向（縦や横）のエッジのみを抽出するフィルタであり、次式でそれぞれ定義される。\n",
    "\n",
    "```bash\n",
    "    (a)縦方向       (b)横方向\n",
    "      1 0 -1            1  2  1\n",
    "K = [ 2 0 -2 ]   K = [  0  0  0 ]\n",
    "      1 0 -1           -1 -2 -1\n",
    "```\n",
    "\n",
    "|入力 (imori.jpg)|出力・縦方向 (answer_15_v.jpg)|出力・横方向 (answer_15_h.jpg)|\n",
    "|:---:|:---:|:---:|\n",
    "|![](imori.jpg)|![](answer_15_v.jpg)|![](answer_15_h.jpg)|\n",
    "\n",
    "答え >> [answer_15.py](https://github.com/yoyoyo-yo/Gasyori100knock/blob/master/Question_11_20/answer_15.py)\n",
    "\n",
    "## Q.16. Prewittフィルタ\n",
    "\n",
    "Prewittフィルタ(3x3)を実装せよ。\n",
    "\n",
    "Prewittフィルタはエッジ抽出フィルタの一種であり、次式で定義される。\n",
    "\n",
    "```bash\n",
    "    (a)縦方向          (b)横方向\n",
    "      -1 -1 -1          -1 0 1\n",
    "K = [  0  0  0 ]  K = [ -1 0 1 ]\n",
    "       1  1  1          -1 0 1\n",
    "```\n",
    "\n",
    "|入力 (imori.jpg)|出力・縦方向 (answer_16_v.jpg)|出力・横方向 (answer_16_h.jpg)|\n",
    "|:---:|:---:|:---:|\n",
    "|![](imori.jpg)|![](answer_16_v.jpg)|![](answer_16_h.jpg)|\n",
    "\n",
    "答え >> [answer_16.py](https://github.com/yoyoyo-yo/Gasyori100knock/blob/master/Question_11_20/answer_16.py)\n",
    "\n",
    "\n",
    "## Q.17. Laplacianフィルタ\n",
    "\n",
    "Laplacianフィルタを実装せよ。\n",
    "\n",
    "Laplacian（ラプラシアン）フィルタとは輝度の二次微分をとることでエッジ検出を行うフィルタである。\n",
    "\n",
    "デジタル画像は離散データであるので、x方向・y方向の一次微分は、それぞれ次式で表される。\n",
    "\n",
    "```bash\n",
    "Ix(x,y) = (I(x+1, y) - I(x,y)) / ((x+1)-x) = I(x+1, y) - I(x,y)\n",
    "Iy(x,y) = (I(x, y+1) - I(x,y)) / ((y+1)-y) = I(x, y+1) - I(x,y)\n",
    "```\n",
    "\n",
    "さらに二次微分は、次式で表される。\n",
    "\n",
    "```bash\n",
    "Ixx(x,y) = (Ix(x,y) - Ix(x-1,y)) / ((x+1)-x) = Ix(x,y) - Ix(x-1,y)\n",
    "         = (I(x+1, y) - I(x,y)) - (I(x, y) - I(x-1,y))\n",
    "         = I(x+1,y) - 2 * I(x,y) + I(x-1,y)\n",
    "Iyy(x,y) = ... = I(x,y+1) - 2 * I(x,y) + I(x,y-1)\n",
    "```\n",
    "\n",
    "これらより、ラプラシアン は次式で定義される。\n",
    "\n",
    "```bash\n",
    "D^2 I(x,y) = Ixx(x,y) + Iyy(x,y)\n",
    "           = I(x-1,y) + I(x,y-1) - 4 * I(x,y) + I(x+1,y) + I(x,y+1)\n",
    "```\n",
    "\n",
    "これをカーネル化すると、次のようになる。\n",
    "\n",
    "```bash\n",
    "      0  1  0\n",
    "K = [ 1 -4  1 ]\n",
    "      0  1  0\n",
    "```\n",
    "\n",
    "|入力 (imori.jpg)|出力(answer_17.jpg)|\n",
    "|:---:|:---:|\n",
    "|![](imori.jpg)|![](answer_17.jpg)||\n",
    "\n",
    "答え >> [answer_17.py](https://github.com/yoyoyo-yo/Gasyori100knock/blob/master/Question_11_20/answer_17.py)\n",
    "\n",
    "## Q.18. Embossフィルタ\n",
    "\n",
    "Embossフィルタを実装せよ。\n",
    "\n",
    "Embossフィルタとは輪郭部分を浮き出しにするフィルタで、次式で定義される。\n",
    "\n",
    "```bash\n",
    "      -2 -1  0\n",
    "K = [ -1  1  1 ]\n",
    "       0  1  2\n",
    "```\n",
    "\n",
    "|入力 (imori.jpg)|出力(answer_18.jpg)|\n",
    "|:---:|:---:|\n",
    "|![](imori.jpg)|![](answer_18.jpg)|\n",
    "\n",
    "答え >> [answer_17.py](https://github.com/yoyoyo-yo/Gasyori100knock/blob/master/Question_11_20/answer_18.py)\n",
    "\n",
    "## Q.19. LoGフィルタ\n",
    "\n",
    "LoGフィルタ(s=3)を実装し、*imori_noise.jpg*のエッジを検出せよ。\n",
    "\n",
    "LoGフィルタとはLaplacian of Gaussianであり、ガウシアンフィルタで画像を平滑化した後にラプラシアンフィルタで輪郭を取り出すフィルタである。\n",
    "\n",
    "Laplcianフィルタは二次微分をとるのでノイズが強調されるのを防ぐために、予めGaussianフィルタでノイズを抑える。\n",
    "\n",
    "LoGフィルタは次式で定義される。\n",
    "\n",
    "```bash\n",
    "LoG(x,y) = (x^2 + y^2 - s^2) / (2 * pi * s^6) * exp(-(x^2+y^2) / (2*s^2))\n",
    "```\n",
    "\n",
    "|入力 (imori.jpg)|出力 (answer_19.jpg) |\n",
    "|:---:|:---:|\n",
    "|![](imori.jpg)|![](answer_19.jpg)|\n",
    "\n",
    "答え >> [answer_20.py](https://github.com/yoyoyo-yo/Gasyori100knock/blob/master/Question_11_20/answer_19.py)\n",
    "\n",
    "## Q.20. ヒストグラム表示\n",
    "\n",
    "matplotlibを用いて*imori_dark.jpg*のヒストグラムを表示せよ。\n",
    "\n",
    "ヒストグラムとは画素の出現回数をグラフにしたものである。\n",
    "matplotlibではhist()という関数がすでにあるので、それを利用する。\n",
    "\n",
    "|入力 (imori_dark.jpg)|出力 (answer_20.png) |\n",
    "|:---:|:---:|\n",
    "|![](imori_dark.jpg)|![](answer_20.png)|\n",
    "\n",
    "答え >> [answer_20.py](https://github.com/yoyoyo-yo/Gasyori100knock/blob/master/Question_11_20/answer_20.py)"
   ]
  }
 ],
 "metadata": {
  "_draft": {
   "nbviewer_url": "https://gist.github.com/2905304360bdfc5bea53f1a16e0f877c"
  },
  "gist": {
   "data": {
    "description": "言語処理100本ノック.ipynb",
    "public": true
   },
   "id": "2905304360bdfc5bea53f1a16e0f877c"
  },
  "kernelspec": {
   "display_name": "gasyori100",
   "language": "python",
   "name": "gasyori100"
  },
  "language_info": {
   "codemirror_mode": {
    "name": "ipython",
    "version": 3
   },
   "file_extension": ".py",
   "mimetype": "text/x-python",
   "name": "python",
   "nbconvert_exporter": "python",
   "pygments_lexer": "ipython3",
   "version": "3.6.8"
  },
  "toc": {
   "base_numbering": 1,
   "nav_menu": {},
   "number_sections": false,
   "sideBar": true,
   "skip_h1_title": false,
   "title_cell": "目次",
   "title_sidebar": "目次",
   "toc_cell": true,
   "toc_position": {},
   "toc_section_display": true,
   "toc_window_display": true
  }
 },
 "nbformat": 4,
 "nbformat_minor": 2
}
