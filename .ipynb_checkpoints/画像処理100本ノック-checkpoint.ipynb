{
 "cells": [
  {
   "cell_type": "markdown",
   "metadata": {},
   "source": [
    "[画像処理100本ノック](https://github.com/yoyoyo-yo/Gasyori100knock)"
   ]
  },
  {
   "cell_type": "markdown",
   "metadata": {
    "toc": true
   },
   "source": [
    "<h1>目次<span class=\"tocSkip\"></span></h1>\n",
    "<div class=\"toc\"><ul class=\"toc-item\"><li><span><a href=\"#チュートリアル\" data-toc-modified-id=\"チュートリアル-1\">チュートリアル</a></span><ul class=\"toc-item\"><li><ul class=\"toc-item\"><li><span><a href=\"#00.-文字列の逆順\" data-toc-modified-id=\"00.-文字列の逆順-1.0.1\">00. 文字列の逆順</a></span></li><li><span><a href=\"#01.-「パタトクカシーー」\" data-toc-modified-id=\"01.-「パタトクカシーー」-1.0.2\">01. 「パタトクカシーー」</a></span></li><li><span><a href=\"#02.-「パトカー」＋「タクシー」＝「パタトクカシーー」\" data-toc-modified-id=\"02.-「パトカー」＋「タクシー」＝「パタトクカシーー」-1.0.3\">02. 「パトカー」＋「タクシー」＝「パタトクカシーー」</a></span></li><li><span><a href=\"#03.-円周率\" data-toc-modified-id=\"03.-円周率-1.0.4\">03. 円周率</a></span></li><li><span><a href=\"#04.-元素記号\" data-toc-modified-id=\"04.-元素記号-1.0.5\">04. 元素記号</a></span></li><li><span><a href=\"#05.-n-gram\" data-toc-modified-id=\"05.-n-gram-1.0.6\">05. n-gram</a></span></li><li><span><a href=\"#06.-集合\" data-toc-modified-id=\"06.-集合-1.0.7\">06. 集合</a></span></li><li><span><a href=\"#07.-テンプレートによる文生成\" data-toc-modified-id=\"07.-テンプレートによる文生成-1.0.8\">07. テンプレートによる文生成</a></span></li><li><span><a href=\"#08.-暗号文\" data-toc-modified-id=\"08.-暗号文-1.0.9\">08. 暗号文</a></span></li><li><span><a href=\"#09.-Typoglycemia\" data-toc-modified-id=\"09.-Typoglycemia-1.0.10\">09. Typoglycemia</a></span></li></ul></li></ul></li><li><span><a href=\"#第2章:-UNIXコマンドの基礎\" data-toc-modified-id=\"第2章:-UNIXコマンドの基礎-2\">第2章: UNIXコマンドの基礎</a></span><ul class=\"toc-item\"><li><ul class=\"toc-item\"><li><span><a href=\"#10.-行数のカウント\" data-toc-modified-id=\"10.-行数のカウント-2.0.1\">10. 行数のカウント</a></span></li><li><span><a href=\"#11.-タブをスペースに置換\" data-toc-modified-id=\"11.-タブをスペースに置換-2.0.2\">11. タブをスペースに置換</a></span></li><li><span><a href=\"#12.-1列目をcol1.txtに，2列目をcol2.txtに保存\" data-toc-modified-id=\"12.-1列目をcol1.txtに，2列目をcol2.txtに保存-2.0.3\">12. 1列目をcol1.txtに，2列目をcol2.txtに保存</a></span></li><li><span><a href=\"#13.-col1.txtとcol2.txtをマージ\" data-toc-modified-id=\"13.-col1.txtとcol2.txtをマージ-2.0.4\">13. col1.txtとcol2.txtをマージ</a></span></li><li><span><a href=\"#14.-先頭からN行を出力\" data-toc-modified-id=\"14.-先頭からN行を出力-2.0.5\">14. 先頭からN行を出力</a></span></li><li><span><a href=\"#15.-末尾のN行を出力\" data-toc-modified-id=\"15.-末尾のN行を出力-2.0.6\">15. 末尾のN行を出力</a></span></li><li><span><a href=\"#16.-ファイルをN分割する\" data-toc-modified-id=\"16.-ファイルをN分割する-2.0.7\">16. ファイルをN分割する</a></span></li><li><span><a href=\"#17.-１列目の文字列の異なり\" data-toc-modified-id=\"17.-１列目の文字列の異なり-2.0.8\">17. １列目の文字列の異なり</a></span></li><li><span><a href=\"#18.-各行を3コラム目の数値の降順にソート\" data-toc-modified-id=\"18.-各行を3コラム目の数値の降順にソート-2.0.9\">18. 各行を3コラム目の数値の降順にソート</a></span></li><li><span><a href=\"#19.-各行の1コラム目の文字列の出現頻度を求め，出現頻度の高い順に並べる\" data-toc-modified-id=\"19.-各行の1コラム目の文字列の出現頻度を求め，出現頻度の高い順に並べる-2.0.10\">19. 各行の1コラム目の文字列の出現頻度を求め，出現頻度の高い順に並べる</a></span></li></ul></li></ul></li></ul></div>"
   ]
  },
  {
   "cell_type": "markdown",
   "metadata": {},
   "source": [
    "# チュートリアル"
   ]
  },
  {
   "cell_type": "markdown",
   "metadata": {},
   "source": [
    "### 1 \t画像読み込み・表示\n",
    "2 \t画素をいじる\n",
    "3 \t画像のコピー\n",
    "4 \t画像の保存\n",
    "5 \t練習問題\n",
    "> 文字列\"stressed\"の文字を逆に（末尾から先頭に向かって）並べた文字列を得よ．"
   ]
  },
  {
   "cell_type": "code",
   "execution_count": 1,
   "metadata": {},
   "outputs": [
    {
     "name": "stdout",
     "output_type": "stream",
     "text": [
      "desserts\n"
     ]
    }
   ],
   "source": [
    "Daten = \"stressed\"\n",
    "print(Daten[::-1])"
   ]
  },
  {
   "cell_type": "markdown",
   "metadata": {},
   "source": [
    "`[x:y:z]`$:=[x,y)$を$z$ごとに出力\n",
    "\n",
    "[Pythonのスライスによるリストや文字列の部分選択・代入 - note.nkmk.me](https://note.nkmk.me/python-slice-usage/)"
   ]
  },
  {
   "cell_type": "markdown",
   "metadata": {},
   "source": [
    "### 01. 「パタトクカシーー」\n",
    ">「パタトクカシーー」という文字列の1,3,5,7文字目を取り出して連結した文字列を得よ．"
   ]
  },
  {
   "cell_type": "code",
   "execution_count": 2,
   "metadata": {
    "scrolled": true
   },
   "outputs": [
    {
     "name": "stdout",
     "output_type": "stream",
     "text": [
      "パトカー\n"
     ]
    }
   ],
   "source": [
    "Daten = \"パタトクカシーー\"\n",
    "print(Daten[::2])"
   ]
  },
  {
   "cell_type": "markdown",
   "metadata": {},
   "source": [
    "### 02. 「パトカー」＋「タクシー」＝「パタトクカシーー」\n",
    ">「パトカー」＋「タクシー」の文字を先頭から交互に連結して文字列「パタトクカシーー」を得よ．"
   ]
  },
  {
   "cell_type": "code",
   "execution_count": 3,
   "metadata": {},
   "outputs": [
    {
     "name": "stdout",
     "output_type": "stream",
     "text": [
      "パタトクカシーー\n"
     ]
    }
   ],
   "source": [
    "ant = \"\"\n",
    "for (c1,c2) in zip(\"パトカー\",\"タクシー\") :\n",
    "    ant += c1+c2\n",
    "print(ant)"
   ]
  },
  {
   "cell_type": "markdown",
   "metadata": {},
   "source": [
    "`for (x1,x2,…,xn) in zip(y1,y2,…,yn)` は最小要素数だけループを回す"
   ]
  },
  {
   "cell_type": "markdown",
   "metadata": {},
   "source": [
    "### 03. 円周率\n",
    ">\"Now I need a drink, alcoholic of course, after the heavy lectures involving quantum mechanics.\"という文を単語に分解し，各単語の（アルファベットの）文字数を先頭から出現順に並べたリストを作成せよ．"
   ]
  },
  {
   "cell_type": "code",
   "execution_count": 4,
   "metadata": {
    "scrolled": false
   },
   "outputs": [
    {
     "name": "stdout",
     "output_type": "stream",
     "text": [
      "[3, 1, 4, 1, 5, 9, 2, 6, 5, 3, 5, 8, 9, 7, 9]\n"
     ]
    }
   ],
   "source": [
    "import re\n",
    "Daten = \"Now I need a drink, alcoholic of course, after the heavy lectures involving quantum mechanics.\"\n",
    "Daten = re.split(\"[ ,.]+\",Daten) \n",
    "Daten.remove(\"\")\n",
    "Liste = []\n",
    "for s in Daten :\n",
    "    Liste.append(len(s))\n",
    "print(Liste)"
   ]
  },
  {
   "cell_type": "markdown",
   "metadata": {},
   "source": [
    "`import re`で正規表現を使える．  \n",
    "`re.split(正規表現,str)`で指定文字で分割する．`[ ,.]`は\"(空白)\"と\",\"と\".\"のいずれかで，`+`は直前の要素を1回以上繰り返す．  \n",
    "`\"Now I … mechanics.\"`は\".\"で終わるので`[\"Now\",\"I\",… ,\"mechanics\",\"\"]`となってしまい空文字列が邪魔．`list.remove(\"\")`で空文字列を削除．"
   ]
  },
  {
   "cell_type": "markdown",
   "metadata": {},
   "source": [
    "### 04. 元素記号\n",
    ">\"Hi He Lied Because Boron Could Not Oxidize Fluorine. New Nations Might Also Sign Peace Security Clause. Arthur King Can.\"という文を単語に分解し，1, 5, 6, 7, 8, 9, 15, 16, 19番目の単語は先頭の1文字，それ以外の単語は先頭に2文字を取り出し，取り出した文字列から単語の位置（先頭から何番目の単語か）への連想配列（辞書型もしくはマップ型）を作成せよ．"
   ]
  },
  {
   "cell_type": "code",
   "execution_count": 5,
   "metadata": {},
   "outputs": [
    {
     "name": "stdout",
     "output_type": "stream",
     "text": [
      "{'H': 1, 'He': 2, 'Li': 3, 'Be': 4, 'B': 5, 'C': 6, 'N': 7, 'O': 8, 'F': 9, 'Ne': 10, 'Na': 11, 'Mi': 12, 'Al': 13, 'Si': 14, 'P': 15, 'S': 16, 'Cl': 17, 'Ar': 18, 'K': 19, 'Ca': 20}\n"
     ]
    }
   ],
   "source": [
    "import re\n",
    "Daten = \"Hi He Lied Because Boron Could Not Oxidize Fluorine. New Nations Might Also Sign Peace Security Clause. Arthur King Can.\"\n",
    "ID = [1, 5, 6, 7, 8, 9, 15, 16, 19]\n",
    "Daten = re.split(\"[ ,.]+\",Daten) \n",
    "Daten.remove(\"\")\n",
    "Wörterbuch = {}\n",
    "for (i,s) in enumerate(Daten) :\n",
    "    if i+1 in ID :\n",
    "        Wörterbuch[s[0]] = i+1\n",
    "    else :\n",
    "        Wörterbuch[s[0:2]] = i+1\n",
    "print(Wörterbuch)"
   ]
  },
  {
   "cell_type": "markdown",
   "metadata": {},
   "source": [
    "`for (i,s) in enumerate(list)`でindexを取得しながらループ．  \n",
    "`if i+1 in id`は内包表記というらしいがよくわかっていない．\n",
    "[pythonの内包表記を少し詳しく - Qiita](https://qiita.com/y__sama/items/a2c458de97c4aa5a98e7)"
   ]
  },
  {
   "cell_type": "markdown",
   "metadata": {},
   "source": [
    "### 05. n-gram\n",
    ">与えられたシーケンス（文字列やリストなど）からn-gramを作る関数を作成せよ．この関数を用い，\"I am an NLPer\"という文から単語bi-gram，文字bi-gramを得よ．"
   ]
  },
  {
   "cell_type": "code",
   "execution_count": 6,
   "metadata": {},
   "outputs": [
    {
     "name": "stdout",
     "output_type": "stream",
     "text": [
      "['I ', ' a', 'am', 'm ', ' a', 'an', 'n ', ' N', 'NL', 'LP', 'Pe', 'er']\n",
      "[['I', 'am'], ['am', 'an'], ['an', 'NLPer']]\n"
     ]
    }
   ],
   "source": [
    "def n_gram (n,s) :\n",
    "    zurück = []\n",
    "    for i in range(len(s)) :\n",
    "        tmp = s[i:i+n]\n",
    "        if len(tmp) == n :\n",
    "            zurück.append(tmp)\n",
    "    return zurück\n",
    "\n",
    "Daten = \"I am an NLPer\"\n",
    "Wört = Daten.split(\" \") \n",
    "print(n_gram(2,Daten))\n",
    "print(n_gram(2,Wört))"
   ]
  },
  {
   "cell_type": "markdown",
   "metadata": {},
   "source": [
    "<dl>\n",
    "  <dt>n-gram</dt>\n",
    "  <dd>シーケンスから連続n要素を取り出したもの．</dd>\n",
    "</dl>"
   ]
  },
  {
   "cell_type": "markdown",
   "metadata": {},
   "source": [
    "### 06. 集合\n",
    ">\"paraparaparadise\"と\"paragraph\"に含まれる文字bi-gramの集合を，それぞれ, XとYとして求め，XとYの和集合，積集合，差集合を求めよ．さらに，'se'というbi-gramがXおよびYに含まれるかどうかを調べよ．"
   ]
  },
  {
   "cell_type": "code",
   "execution_count": 7,
   "metadata": {
    "scrolled": false
   },
   "outputs": [
    {
     "name": "stdout",
     "output_type": "stream",
     "text": [
      "X: {'se', 'pa', 'is', 'di', 'ra', 'ap', 'ar', 'ad'}\n",
      "Y: {'gr', 'pa', 'ag', 'ra', 'ph', 'ap', 'ar'}\n",
      "Vereinigungsmenge: {'gr', 'se', 'pa', 'is', 'di', 'ag', 'ra', 'ph', 'ap', 'ar', 'ad'}\n",
      "Schnittmenge: {'ap', 'ra', 'ar', 'pa'}\n",
      "Differenz und Komplement(X-Y): {'se', 'di', 'is', 'ad'}\n",
      "Differenz und Komplement(Y-X): {'gr', 'ph', 'ag'}\n",
      "se in X ?: Richtig\n",
      "se in Y ?: Falsch\n"
     ]
    }
   ],
   "source": [
    "def n_gram (n,s) :\n",
    "    zurück = []\n",
    "    for i in range(len(s)) :\n",
    "        tmp = s[i:i+n]\n",
    "        if len(tmp) == n :\n",
    "            zurück.append(tmp)\n",
    "    return zurück\n",
    "\n",
    "DatenX = \"paraparaparadise\"\n",
    "DatenY = \"paragraph\"\n",
    "X = set(n_gram(2,DatenX))\n",
    "Y = set(n_gram(2,DatenY))\n",
    "print(f\"X: {X}\")\n",
    "print(f\"Y: {Y}\")\n",
    "print(f\"Vereinigungsmenge: {X|Y}\")\n",
    "print(f\"Schnittmenge: {X&Y}\")\n",
    "print(f\"Differenz und Komplement(X-Y): {X-Y}\")\n",
    "print(f\"Differenz und Komplement(Y-X): {Y-X}\")\n",
    "print(\"se in X ?: \"+(\"Richtig\" if \"se\" in X else \"Falsch\"))\n",
    "print(\"se in Y ?: \"+(\"Richtig\" if \"se\" in Y else \"Falsch\"))"
   ]
  },
  {
   "cell_type": "markdown",
   "metadata": {},
   "source": [
    "`set(list)`でlist→setに変換．  \n",
    "`set`の演算はbitと同じ感じ．[Python, set型で集合演算（和集合、積集合や部分集合の判定など） - note.nkmk.me](https://note.nkmk.me/python-set/)  \n",
    "関係ないけど`print(f\"{val}\")`使いやすい．  \n",
    "[True or false は ドイツ語 で何と言いますか？ - HiNative](https://hinative.com/ja/questions/3009247)"
   ]
  },
  {
   "cell_type": "markdown",
   "metadata": {},
   "source": [
    "### 07. テンプレートによる文生成\n",
    ">引数x, y, zを受け取り「x時のyはz」という文字列を返す関数を実装せよ．さらに，x=12, y=\"気温\", z=22.4として，実行結果を確認せよ．"
   ]
  },
  {
   "cell_type": "code",
   "execution_count": 8,
   "metadata": {},
   "outputs": [
    {
     "name": "stdout",
     "output_type": "stream",
     "text": [
      "12時の気温は22.4\n"
     ]
    }
   ],
   "source": [
    "def Temperatur (x,y,z) :\n",
    "    return (f\"{x}時の{y}は{z}\")\n",
    "print(Temperatur(12,\"気温\",22.4))"
   ]
  },
  {
   "cell_type": "markdown",
   "metadata": {},
   "source": [
    "### 08. 暗号文\n",
    ">与えられた文字列の各文字を，以下の仕様で変換する関数cipherを実装せよ．この関数を用い，英語のメッセージを暗号化・復号化せよ．\n",
    "- 英小文字ならば(219 - 文字コード)の文字に置換\n",
    "- その他の文字はそのまま出力"
   ]
  },
  {
   "cell_type": "code",
   "execution_count": 9,
   "metadata": {},
   "outputs": [
    {
     "name": "stdout",
     "output_type": "stream",
     "text": [
      "Dunkel ist das Leben, ist der Tod.\n",
      "→ Dfmpvo rhg wzh Lvyvm, rhg wvi Tlw.\n",
      "→ Dunkel ist das Leben, ist der Tod.\n"
     ]
    }
   ],
   "source": [
    "def cipher (s) :\n",
    "    züruck = \"\"\n",
    "    for c in s :\n",
    "        züruck += chr(219 - ord(c)) if 'a'<=c and c<='z' else c\n",
    "    return züruck\n",
    "\n",
    "str = \"Dunkel ist das Leben, ist der Tod.\"\n",
    "print(str)\n",
    "vorher = cipher(str)\n",
    "nachher = cipher(vorher)\n",
    "print(f\"→ {vorher}\")\n",
    "print(f\"→ {nachher}\")"
   ]
  },
  {
   "cell_type": "markdown",
   "metadata": {},
   "source": [
    "`ord(char)`ascii取得  \n",
    "`chr(int)` ascii変換  \n",
    "`'a'+'z' = 219`なので相互変換可能  \n",
    "[大地の歌 - Wikipedia](https://ja.wikipedia.org/wiki/%E5%A4%A7%E5%9C%B0%E3%81%AE%E6%AD%8C#%E6%AD%8C%E8%A9%9E)  \n",
    "[Mahler - Das Lied von der Erde - Bernstein - YouTube](https://www.youtube.com/watch?v=idRevTkIPts)"
   ]
  },
  {
   "cell_type": "markdown",
   "metadata": {},
   "source": [
    "### 09. Typoglycemia\n",
    ">スペースで区切られた単語列に対して，各単語の先頭と末尾の文字は残し，それ以外の文字の順序をランダムに並び替えるプログラムを作成せよ．ただし，長さが４以下の単語は並び替えないこととする．適当な英語の文（例えば\"I couldn't believe that I could actually understand what I was reading : the phenomenal power of the human mind .\"）を与え，その実行結果を確認せよ．"
   ]
  },
  {
   "cell_type": "code",
   "execution_count": 10,
   "metadata": {},
   "outputs": [
    {
     "name": "stdout",
     "output_type": "stream",
     "text": [
      "I c'udlnot bveiele that I could aatlucly urndneatsd what I was raideng : the pheanoemnl peowr of the hmaun mind .\n"
     ]
    }
   ],
   "source": [
    "import random\n",
    "def Buchstabensalat (str) :\n",
    "    Wört = str.split(\" \")\n",
    "    züruck = []\n",
    "    for s in Wört :\n",
    "        tmp = s\n",
    "        if len(s)>4 :\n",
    "            mischen = [c for c in s[1:-1]]\n",
    "            random.shuffle(mischen)\n",
    "            tmp = tmp[0]+\"\".join(mischen)+tmp[-1]\n",
    "        züruck.append(tmp)\n",
    "    return \" \".join(züruck)\n",
    "    \n",
    "Daten = \"I couldn't believe that I could actually understand what I was reading : the phenomenal power of the human mind .\"\n",
    "print(Buchstabensalat(Daten))"
   ]
  },
  {
   "cell_type": "markdown",
   "metadata": {},
   "source": [
    "`import random`する．  \n",
    "混ぜるときは単語をバラしたlistを作ってから`random.shuffle(list)`．  \n",
    "`\"str\".join(list)`でいい感じに結合できる．  \n",
    "[タイポグリセミア - Wikipedia](https://ja.wikipedia.org/wiki/%E3%82%BF%E3%82%A4%E3%83%9D%E3%82%B0%E3%83%AA%E3%82%BB%E3%83%9F%E3%82%A2)"
   ]
  },
  {
   "cell_type": "markdown",
   "metadata": {},
   "source": [
    "# 第2章: UNIXコマンドの基礎\n",
    ">[hightemp.txt](http://www.cl.ecei.tohoku.ac.jp/nlp100/data/hightemp.txt)は，日本の最高気温の記録を「都道府県」「地点」「℃」「日」のタブ区切り形式で格納したファイルである．以下の処理を行うプログラムを作成し，[hightemp.txt](http://www.cl.ecei.tohoku.ac.jp/nlp100/data/hightemp.txt)を入力ファイルとして実行せよ．さらに，同様の処理をUNIXコマンドでも実行し，プログラムの実行結果を確認せよ．\n",
    "\n",
    "WinなのでPowerShellでやります．苦行．"
   ]
  },
  {
   "cell_type": "markdown",
   "metadata": {},
   "source": [
    "### 10. 行数のカウント\n",
    ">行数をカウントせよ．確認にはwcコマンドを用いよ．"
   ]
  },
  {
   "cell_type": "code",
   "execution_count": 11,
   "metadata": {},
   "outputs": [
    {
     "name": "stdout",
     "output_type": "stream",
     "text": [
      "24\n"
     ]
    }
   ],
   "source": [
    "with open(\"hightemp.txt\",\"r\",encoding=\"utf8\") as f :\n",
    "    zählen = 0\n",
    "    for zeilen in f :\n",
    "        zählen += 1\n",
    "print(zählen)"
   ]
  },
  {
   "cell_type": "markdown",
   "metadata": {},
   "source": [
    "`encoding=\"utf8\"`がすごい重要"
   ]
  },
  {
   "cell_type": "markdown",
   "metadata": {},
   "source": [
    "**PowerShell**\n",
    "```\n",
    "> cat hightemp.txt | measure\n",
    "Count    : 24\n",
    "Average  :\n",
    "Sum      :\n",
    "Maximum  :\n",
    "Minimum  :\n",
    "Property :\n",
    "```\n",
    "初っ端から不安"
   ]
  },
  {
   "cell_type": "markdown",
   "metadata": {},
   "source": [
    "### 11. タブをスペースに置換\n",
    ">タブ1文字につきスペース1文字に置換せよ．確認にはsedコマンド，trコマンド，もしくはexpandコマンドを用いよ．"
   ]
  },
  {
   "cell_type": "code",
   "execution_count": 12,
   "metadata": {
    "scrolled": true
   },
   "outputs": [
    {
     "name": "stdout",
     "output_type": "stream",
     "text": [
      "﻿高知県 江川崎 41 2013-08-12\n",
      "埼玉県 熊谷 40.9 2007-08-16\n",
      "岐阜県 多治見 40.9 2007-08-16\n",
      "山形県 山形 40.8 1933-07-25\n",
      "山梨県 甲府 40.7 2013-08-10\n",
      "和歌山県 かつらぎ 40.6 1994-08-08\n",
      "静岡県 天竜 40.6 1994-08-04\n",
      "山梨県 勝沼 40.5 2013-08-10\n",
      "埼玉県 越谷 40.4 2007-08-16\n",
      "群馬県 館林 40.3 2007-08-16\n",
      "群馬県 上里見 40.3 1998-07-04\n",
      "愛知県 愛西 40.3 1994-08-05\n",
      "千葉県 牛久 40.2 2004-07-20\n",
      "静岡県 佐久間 40.2 2001-07-24\n",
      "愛媛県 宇和島 40.2 1927-07-22\n",
      "山形県 酒田 40.1 1978-08-03\n",
      "岐阜県 美濃 40 2007-08-16\n",
      "群馬県 前橋 40 2001-07-24\n",
      "千葉県 茂原 39.9 2013-08-11\n",
      "埼玉県 鳩山 39.9 1997-07-05\n",
      "大阪府 豊中 39.9 1994-08-08\n",
      "山梨県 大月 39.9 1990-07-19\n",
      "山形県 鶴岡 39.9 1978-08-03\n",
      "愛知県 名古屋 39.9 1942-08-02\n"
     ]
    }
   ],
   "source": [
    "with open(\"hightemp.txt\",\"r\",encoding=\"utf8\") as f :\n",
    "    for zeilen in f :\n",
    "        zeilen = zeilen.replace(\"\\t\",\" \")\n",
    "        zeilen = zeilen.replace(\"\\n\",\"\")\n",
    "        print(zeilen)"
   ]
  },
  {
   "cell_type": "markdown",
   "metadata": {},
   "source": [
    "`str.replace(\"前\",\"後\")`"
   ]
  },
  {
   "cell_type": "markdown",
   "metadata": {},
   "source": [
    "**PowerShell**\n",
    "```\n",
    "> $Daten = cat hightemp.txt | % { $_ -replace \"\\t\",\" \" }\n",
    "> $Daten\n",
    "```\n",
    "なんだこれ"
   ]
  },
  {
   "cell_type": "markdown",
   "metadata": {},
   "source": [
    "### 12. 1列目をcol1.txtに，2列目をcol2.txtに保存\n",
    ">各行の1列目だけを抜き出したものをcol1.txtに，2列目だけを抜き出したものをcol2.txtとしてファイルに保存せよ．確認にはcutコマンドを用いよ．"
   ]
  },
  {
   "cell_type": "code",
   "execution_count": 13,
   "metadata": {},
   "outputs": [],
   "source": [
    "with open(\"col1.txt\",\"w\",encoding=\"utf8\") as c1 :\n",
    "    with open(\"hightemp.txt\",\"r\",encoding=\"utf8\") as f :\n",
    "        for zeilen in f :\n",
    "            Daten = zeilen.split(\"\\t\")\n",
    "            c1.write(Daten[0]+\"\\n\")\n",
    "with open(\"col2.txt\",\"w\",encoding=\"utf8\") as c2 :\n",
    "    with open(\"hightemp.txt\",\"r\",encoding=\"utf8\") as f :\n",
    "        for zeilen in f :\n",
    "            Daten = zeilen.split(\"\\t\")\n",
    "            c2.write(Daten[1]+\"\\n\")"
   ]
  },
  {
   "cell_type": "markdown",
   "metadata": {},
   "source": [
    "**出力略**"
   ]
  },
  {
   "cell_type": "markdown",
   "metadata": {},
   "source": [
    "**PowerShell**\n",
    "```\n",
    "> $data = cat hightemp.txt\n",
    "> $data | %{$c1,$c2,$c3,$c4=$_.Split(\"`t\"); \"$c1\"}\n",
    "/* col1.txtと同じ */\n",
    "> $data | %{$c1,$c2,$c3,$c4=$_.Split(\"`t\"); \"$c2\"}\n",
    "/* col2.txtと同じ */\n",
    "```\n",
    "設計者どういうつもり  \n",
    "[PowerShell(cutコマンド代替) - コマンドの達人](https://life-is-command.com/powershell-cut/)"
   ]
  },
  {
   "cell_type": "markdown",
   "metadata": {},
   "source": [
    "### 13. col1.txtとcol2.txtをマージ\n",
    ">12で作ったcol1.txtとcol2.txtを結合し，元のファイルの1列目と2列目をタブ区切りで並べたテキストファイルを作成せよ．確認にはpasteコマンドを用いよ．"
   ]
  },
  {
   "cell_type": "code",
   "execution_count": 14,
   "metadata": {},
   "outputs": [],
   "source": [
    "eins = []\n",
    "zwei = []\n",
    "with open(\"col1.txt\",\"r\",encoding=\"utf8\") as f :\n",
    "    for zeilen in f :\n",
    "        eins.append(zeilen.replace(\"\\n\",\"\\t\"))\n",
    "with open(\"col2.txt\",\"r\",encoding=\"utf8\") as f :\n",
    "    for zeilen in f :\n",
    "        zwei.append(zeilen)\n",
    "with open(\"col.txt\",\"w\",encoding=\"utf8\") as f :\n",
    "    for (c1,c2) in zip(eins,zwei) :\n",
    "        f.write(c1+c2)"
   ]
  },
  {
   "cell_type": "markdown",
   "metadata": {},
   "source": [
    "**出力略**  \n",
    "実装が競プロじみてきた．"
   ]
  },
  {
   "cell_type": "markdown",
   "metadata": {},
   "source": [
    "**PowerShell**\n",
    "```\n",
    ">  function paste($f1,$f2){\n",
    ">>     # col2.txtが文字化けするのでエンコード指定\n",
    ">>     $a = cat -Encoding UTF8 $f1\n",
    ">>     $b = cat -Encoding UTF8 $f2\n",
    ">>     $row = 0\n",
    ">>     foreach($line in $a){\n",
    ">>         # \"{x,-20}\" -f 第x要素を20文字分出力?\n",
    ">>         \"{0,-20} {1,-20}\" -f $line,$b[$row]\n",
    ">>         $row++\n",
    ">>     }\n",
    ">> }\n",
    ">  paste .\\col1.txt .\\col2.txt\n",
    "```\n",
    "Python書いてる時間より断然長い  \n",
    "[PowerShell(paste代替) - コマンドの達人](https://life-is-command.com/powershell-paste/)  \n",
    "[Get-Contentで文字コードを指定してファイルを読み込む - えぢた 2.2 @k_zoar](https://k-side.hatenablog.jp/entry/2014/04/23/204543)"
   ]
  },
  {
   "cell_type": "markdown",
   "metadata": {},
   "source": [
    "### 14. 先頭からN行を出力\n",
    ">自然数Nをコマンドライン引数などの手段で受け取り，入力のうち先頭のN行だけを表示せよ．確認にはheadコマンドを用いよ．"
   ]
  },
  {
   "cell_type": "code",
   "execution_count": 15,
   "metadata": {},
   "outputs": [
    {
     "name": "stdout",
     "output_type": "stream",
     "text": [
      "3\n",
      "﻿高知県\t江川崎\t41\t2013-08-12\n",
      "埼玉県\t熊谷\t40.9\t2007-08-16\n",
      "岐阜県\t多治見\t40.9\t2007-08-16\n"
     ]
    }
   ],
   "source": [
    "N = int(input())\n",
    "with open(\"hightemp.txt\",\"r\",encoding=\"utf8\") as f :\n",
    "    Daten = f.readlines()\n",
    "    for zeilen in Daten[:N] :\n",
    "        zeilen = zeilen.replace(\"\\n\",\"\")\n",
    "        print(zeilen)"
   ]
  },
  {
   "cell_type": "markdown",
   "metadata": {},
   "source": [
    "**PowerShell**\n",
    "```\n",
    "> (cat hightemp.txt)[0..N-1]\n",
    "```\n",
    "$[x..y]:=[x,y](y-x+1$要素$)$を表示  \n",
    "[PowerShellでhead,tail相当の処理を行う - 俺的備忘録 〜なんかいろいろ〜](https://orebibou.com/2015/01/powershell%E3%81%A7headtail%E7%9B%B8%E5%BD%93%E3%81%AE%E5%87%A6%E7%90%86%E3%82%92%E8%A1%8C%E3%81%86/)"
   ]
  },
  {
   "cell_type": "markdown",
   "metadata": {},
   "source": [
    "### 15. 末尾のN行を出力\n",
    ">自然数Nをコマンドライン引数などの手段で受け取り，入力のうち末尾のN行だけを表示せよ．確認にはtailコマンドを用いよ．"
   ]
  },
  {
   "cell_type": "code",
   "execution_count": 16,
   "metadata": {},
   "outputs": [
    {
     "name": "stdout",
     "output_type": "stream",
     "text": [
      "3\n",
      "山梨県\t大月\t39.9\t1990-07-19\n",
      "山形県\t鶴岡\t39.9\t1978-08-03\n",
      "愛知県\t名古屋\t39.9\t1942-08-02\n"
     ]
    }
   ],
   "source": [
    "N = int(input())\n",
    "with open(\"hightemp.txt\",\"r\",encoding=\"utf8\") as f :\n",
    "    Daten = f.readlines()\n",
    "    for zeilen in Daten[-N:] :\n",
    "        zeilen = zeilen.replace(\"\\n\",\"\")\n",
    "        print(zeilen)"
   ]
  },
  {
   "cell_type": "markdown",
   "metadata": {},
   "source": [
    "**PowerShell**\n",
    "```\n",
    "> (cat hightemp.txt)[-N..-1]\n",
    "```"
   ]
  },
  {
   "cell_type": "markdown",
   "metadata": {},
   "source": [
    "### 16. ファイルをN分割する\n",
    ">自然数Nをコマンドライン引数などの手段で受け取り，入力のファイルを行単位でN分割せよ．同様の処理をsplitコマンドで実現せよ．"
   ]
  },
  {
   "cell_type": "code",
   "execution_count": 17,
   "metadata": {},
   "outputs": [
    {
     "name": "stdout",
     "output_type": "stream",
     "text": [
      "2\n"
     ]
    }
   ],
   "source": [
    "N = int(input())\n",
    "groß = 0\n",
    "with open(\"hightemp.txt\",\"r\",encoding=\"utf8\") as f :\n",
    "    for zeilen in f :\n",
    "        groß += 1\n",
    "# 1ファイルM行\n",
    "M = (groß+N-1)//N\n",
    "with open(\"hightemp.txt\",\"r\",encoding=\"utf8\") as f :\n",
    "    Daten = f.readlines()\n",
    "    # 位置\n",
    "    nun = 0\n",
    "    # ファイル名\n",
    "    num = 0\n",
    "    while nun < groß :\n",
    "        with open(f\"hightemp-{num}.txt\",\"w\",encoding=\"utf8\") as sp :\n",
    "            for zeilen in Daten[nun:nun+M] :\n",
    "                sp.write(zeilen)\n",
    "            nun += M\n",
    "            num += 1"
   ]
  },
  {
   "cell_type": "markdown",
   "metadata": {},
   "source": [
    "**出力略**  \n",
    "完全にゴリ押し"
   ]
  },
  {
   "cell_type": "markdown",
   "metadata": {},
   "source": []
  },
  {
   "cell_type": "markdown",
   "metadata": {},
   "source": [
    "### 17. １列目の文字列の異なり\n",
    ">1列目の文字列の種類（異なる文字列の集合）を求めよ．確認にはsort, uniqコマンドを用いよ．"
   ]
  },
  {
   "cell_type": "code",
   "execution_count": null,
   "metadata": {},
   "outputs": [],
   "source": []
  },
  {
   "cell_type": "markdown",
   "metadata": {},
   "source": [
    "### 18. 各行を3コラム目の数値の降順にソート\n",
    ">各行を3コラム目の数値の逆順で整列せよ（注意: 各行の内容は変更せずに並び替えよ）．確認にはsortコマンドを用いよ（この問題はコマンドで実行した時の結果と合わなくてもよい）．"
   ]
  },
  {
   "cell_type": "code",
   "execution_count": null,
   "metadata": {},
   "outputs": [],
   "source": []
  },
  {
   "cell_type": "markdown",
   "metadata": {},
   "source": [
    "### 19. 各行の1コラム目の文字列の出現頻度を求め，出現頻度の高い順に並べる\n",
    ">各行の1列目の文字列の出現頻度を求め，その高い順に並べて表示せよ．確認にはcut, uniq, sortコマンドを用いよ．"
   ]
  },
  {
   "cell_type": "code",
   "execution_count": null,
   "metadata": {},
   "outputs": [],
   "source": []
  }
 ],
 "metadata": {
  "_draft": {
   "nbviewer_url": "https://gist.github.com/2905304360bdfc5bea53f1a16e0f877c"
  },
  "gist": {
   "data": {
    "description": "言語処理100本ノック.ipynb",
    "public": true
   },
   "id": "2905304360bdfc5bea53f1a16e0f877c"
  },
  "kernelspec": {
   "display_name": "Python 3",
   "language": "python",
   "name": "python3"
  },
  "language_info": {
   "codemirror_mode": {
    "name": "ipython",
    "version": 3
   },
   "file_extension": ".py",
   "mimetype": "text/x-python",
   "name": "python",
   "nbconvert_exporter": "python",
   "pygments_lexer": "ipython3",
   "version": "3.7.0"
  },
  "toc": {
   "base_numbering": 1,
   "nav_menu": {},
   "number_sections": false,
   "sideBar": true,
   "skip_h1_title": false,
   "title_cell": "目次",
   "title_sidebar": "目次",
   "toc_cell": true,
   "toc_position": {},
   "toc_section_display": true,
   "toc_window_display": true
  }
 },
 "nbformat": 4,
 "nbformat_minor": 2
}
